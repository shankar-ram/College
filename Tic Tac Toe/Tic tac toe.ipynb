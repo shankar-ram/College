{
 "cells": [
  {
   "cell_type": "code",
   "execution_count": 2,
   "metadata": {},
   "outputs": [],
   "source": [
    " from IPython.display import clear_output\n",
    "def display_board(board):\n",
    "    clear_output()\n",
    "    print('   '+'|'+'   '+'|')\n",
    "    print(' '+board[7]+' '+'|'+' '+board[8]+' '+'|'+' '+board[9])\n",
    "    print('   '+'|'+'   '+'|')\n",
    "    print('-----------')\n",
    "    print('   '+'|'+'   '+'|')\n",
    "    print(' '+board[4]+' '+'|'+' '+board[5]+' '+'|'+' '+board[6])\n",
    "    print('   '+'|'+'   '+'|')\n",
    "    print('-----------')\n",
    "    print('   '+'|'+'   '+'|')\n",
    "    print(' '+board[1]+' '+'|'+' '+board[2]+' '+'|'+' '+board[3])\n",
    "    print('   '+'|'+'   '+'|')\n",
    "    "
   ]
  },
  {
   "cell_type": "code",
   "execution_count": 3,
   "metadata": {},
   "outputs": [
    {
     "name": "stdout",
     "output_type": "stream",
     "text": [
      "   |   |\n",
      " X | O | X\n",
      "   |   |\n",
      "-----------\n",
      "   |   |\n",
      " O | X | O\n",
      "   |   |\n",
      "-----------\n",
      "   |   |\n",
      " X | O | X\n",
      "   |   |\n"
     ]
    }
   ],
   "source": [
    "testboard=['#','X','O','X','O','X','O','X','O','X']\n",
    "display_board(testboard)"
   ]
  },
  {
   "cell_type": "code",
   "execution_count": 4,
   "metadata": {},
   "outputs": [],
   "source": [
    "def player_input():\n",
    "    marker=''\n",
    "    while not(marker=='X' or marker=='O'):\n",
    "        marker=input(' player1 input: X or O')\n",
    "    if marker=='X':\n",
    "        return ('X','O')\n",
    "    else:\n",
    "        return ('O','X')\n",
    "    \n",
    "        "
   ]
  },
  {
   "cell_type": "code",
   "execution_count": 5,
   "metadata": {},
   "outputs": [
    {
     "name": "stdout",
     "output_type": "stream",
     "text": [
      " player1 input: X or O\n",
      " player1 input: X or OX\n"
     ]
    },
    {
     "data": {
      "text/plain": [
       "('X', 'O')"
      ]
     },
     "execution_count": 5,
     "metadata": {},
     "output_type": "execute_result"
    }
   ],
   "source": [
    "player_input()"
   ]
  },
  {
   "cell_type": "code",
   "execution_count": 6,
   "metadata": {},
   "outputs": [],
   "source": [
    "def assignment(board,marker,position):\n",
    "    board[position]=marker"
   ]
  },
  {
   "cell_type": "code",
   "execution_count": 7,
   "metadata": {},
   "outputs": [
    {
     "name": "stdout",
     "output_type": "stream",
     "text": [
      "   |   |\n",
      " X | O | X\n",
      "   |   |\n",
      "-----------\n",
      "   |   |\n",
      " O | X | O\n",
      "   |   |\n",
      "-----------\n",
      "   |   |\n",
      " X | O | $\n",
      "   |   |\n"
     ]
    }
   ],
   "source": [
    "\n",
    "assignment(testboard,'$',3)\n",
    "display_board(testboard)"
   ]
  },
  {
   "cell_type": "code",
   "execution_count": 8,
   "metadata": {},
   "outputs": [],
   "source": [
    "def check_win(board,mark):\n",
    "    return ((board[7]==mark and board[8]==mark and board[9]==mark)or\n",
    "            (board[4]==mark and board[5]==mark and board[6]==mark)or\n",
    "            (board[1]==mark and board[2]==mark and board[3]==mark)or\n",
    "            (board[7]==mark and board[4]==mark and board[1]==mark)or\n",
    "            (board[8]==mark and board[5]==mark and board[2]==mark)or\n",
    "            (board[9]==mark and board[6]==mark and board[3]==mark)or\n",
    "            (board[7]==mark and board[5]==mark and board[3]==mark)or\n",
    "            (board[1]==mark and board[5]==mark and board[9]==mark))\n",
    "    "
   ]
  },
  {
   "cell_type": "code",
   "execution_count": 9,
   "metadata": {
    "scrolled": true
   },
   "outputs": [
    {
     "data": {
      "text/plain": [
       "True"
      ]
     },
     "execution_count": 9,
     "metadata": {},
     "output_type": "execute_result"
    }
   ],
   "source": [
    "check_win(testboard,'X')"
   ]
  },
  {
   "cell_type": "code",
   "execution_count": 10,
   "metadata": {},
   "outputs": [],
   "source": [
    "import random\n",
    "def first_player():\n",
    "    if random.randint(0,1)==0:\n",
    "        return 'Player2'\n",
    "    else:\n",
    "        return 'Player1'\n",
    "    "
   ]
  },
  {
   "cell_type": "code",
   "execution_count": 11,
   "metadata": {},
   "outputs": [],
   "source": [
    "def check_avail(board,position):\n",
    "    return board[position]==' '"
   ]
  },
  {
   "cell_type": "code",
   "execution_count": 12,
   "metadata": {},
   "outputs": [],
   "source": [
    "def fullboard_check(board):\n",
    "    for i in range(1,10):\n",
    "        if check_avail(board,i):\n",
    "            return False\n",
    "    return True       "
   ]
  },
  {
   "cell_type": "code",
   "execution_count": 13,
   "metadata": {},
   "outputs": [],
   "source": [
    "def player_choice(board):\n",
    "    position=0\n",
    "    while position not in [1,2,3,4,5,6,7,8,9] or not check_avail(board,position):\n",
    "        position=int(input('Enter next position:1-9'))\n",
    "    return position\n",
    "        "
   ]
  },
  {
   "cell_type": "code",
   "execution_count": 14,
   "metadata": {},
   "outputs": [],
   "source": [
    "def replay():\n",
    "    choice=input('Do you want to play again: Yes or No')\n",
    "    return choice=='Yes'"
   ]
  },
  {
   "cell_type": "code",
   "execution_count": null,
   "metadata": {},
   "outputs": [
    {
     "name": "stdout",
     "output_type": "stream",
     "text": [
      "   |   |\n",
      "   |   | O\n",
      "   |   |\n",
      "-----------\n",
      "   |   |\n",
      "   |   |  \n",
      "   |   |\n",
      "-----------\n",
      "   |   |\n",
      "   |   |  \n",
      "   |   |\n"
     ]
    }
   ],
   "source": [
    "print('Lets play Tic Tac Toe')\n",
    "while True:\n",
    "    board=[' ']*10\n",
    "    Player1_marker,Player2_marker=player_input()\n",
    "    turn=first_player()\n",
    "    print(turn+'will go first')\n",
    "    \n",
    "    play_game=input('Are you ready?:Y or N')\n",
    "    \n",
    "    if play_game==\"Y\":\n",
    "        lets_play=True\n",
    "    else:\n",
    "        lets_play=False\n",
    "    while lets_play:\n",
    "        if turn=='Player1':\n",
    "            display_board(board)\n",
    "            position=player_choice(board)\n",
    "            assignment(board,Player1_marker,position)\n",
    "            \n",
    "            if check_win(board,Player1_marker):\n",
    "                display_board(board)\n",
    "                print('Congrats Player1 has won')\n",
    "                lets_play=False\n",
    "            else:\n",
    "                if fullboard_check(board):\n",
    "                    display_board(board)\n",
    "                    print('Game is a draw')\n",
    "                    break\n",
    "                else:\n",
    "                    turn=\"Player2\"\n",
    "        else:\n",
    "            display_board(board)\n",
    "            position=player_choice(board)\n",
    "            assignment(board,Player2_marker,position)\n",
    "            \n",
    "            if check_win(board,Player2_marker):\n",
    "                display_board(board)\n",
    "                print('Congrats Player2 has won')\n",
    "                lets_play=False\n",
    "            else:\n",
    "                if fullboard_check(board):\n",
    "                    display_board(board)\n",
    "                    print('Game is a draw')\n",
    "                    break\n",
    "                else:\n",
    "                    turn=\"Player1\"\n",
    "    if not replay():\n",
    "        break\n",
    "        "
   ]
  },
  {
   "cell_type": "code",
   "execution_count": null,
   "metadata": {},
   "outputs": [],
   "source": []
  }
 ],
 "metadata": {
  "kernelspec": {
   "display_name": "Python 3",
   "language": "python",
   "name": "python3"
  },
  "language_info": {
   "codemirror_mode": {
    "name": "ipython",
    "version": 3
   },
   "file_extension": ".py",
   "mimetype": "text/x-python",
   "name": "python",
   "nbconvert_exporter": "python",
   "pygments_lexer": "ipython3",
   "version": "3.7.4"
  }
 },
 "nbformat": 4,
 "nbformat_minor": 2
}
