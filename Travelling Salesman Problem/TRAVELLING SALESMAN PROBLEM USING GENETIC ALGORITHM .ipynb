{
 "cells": [
  {
   "cell_type": "code",
   "execution_count": 1,
   "metadata": {},
   "outputs": [],
   "source": [
    "import random\n",
    "import copy\n",
    "import math\n",
    "import matplotlib.pyplot as plt\n",
    "%matplotlib inline"
   ]
  },
  {
   "cell_type": "code",
   "execution_count": 2,
   "metadata": {},
   "outputs": [],
   "source": [
    "POPULATION_SIZE = 20\n",
    "CITIES_SIZE = 20\n",
    "TOUR_SIZE = 21\n",
    "NUM_EXECUTION = 9999\n",
    "population = []\n",
    "x = []\n",
    "y = []\n",
    "tour = [[0 for x in range(TOUR_SIZE)] for y in range(TOUR_SIZE)]\n",
    "dCidade = [[0 for x in range(POPULATION_SIZE)] for y in range(POPULATION_SIZE)]\n",
    "distances = [0 for x in range(POPULATION_SIZE)]\n",
    "parentsOne = None\n",
    "parentsTwo = None\n",
    "costByExecution = []"
   ]
  },
  {
   "cell_type": "code",
   "execution_count": 3,
   "metadata": {},
   "outputs": [],
   "source": [
    "#Getting the first population\n",
    "\n",
    "def generateFirstPopulation():\n",
    "    # For each position, generates a new possible path\n",
    "    for _ in range(1, POPULATION_SIZE + 1):\n",
    "        generatePossiblePath()"
   ]
  },
  {
   "cell_type": "code",
   "execution_count": 4,
   "metadata": {},
   "outputs": [],
   "source": [
    "#For generating a new possible path for the population\n",
    "\n",
    "def generatePossiblePath():\n",
    "    path = []\n",
    "    for _ in range(1, CITIES_SIZE + 1):\n",
    "        # generates a new number between 1 - 20\n",
    "        randomNum = random.randint(1, 20)\n",
    "        # while the generated number exists in the list, generates a new one\n",
    "        while(numberExistsInPath(path, randomNum)):\n",
    "            randomNum = random.randint(1, 20)\n",
    "        path.append(randomNum)\n",
    "    population.append(path)"
   ]
  },
  {
   "cell_type": "code",
   "execution_count": 5,
   "metadata": {},
   "outputs": [],
   "source": [
    "#To check if the city number already exists in path\n",
    "def numberExistsInPath(path, number):\n",
    "    for i in path:\n",
    "        if i == number:\n",
    "            return True\n",
    "    return False"
   ]
  },
  {
   "cell_type": "code",
   "execution_count": 6,
   "metadata": {},
   "outputs": [],
   "source": [
    "#Random generstion of values for x and y co ordinates for cities and creaation of x and y array\n",
    "\n",
    "def generateXandY():\n",
    "    for _ in range(CITIES_SIZE):\n",
    "        randomNumber = random.random()\n",
    "        randomNumber = round(randomNumber, 2)\n",
    "        x.append(randomNumber)\n",
    "\n",
    "        randomNumber = random.random()\n",
    "        randomNumber = round(randomNumber, 2)\n",
    "        y.append(randomNumber)"
   ]
  },
  {
   "cell_type": "code",
   "execution_count": 7,
   "metadata": {},
   "outputs": [],
   "source": [
    "\n",
    "#makes the swap between 2 cities in the path with a 5% chance of mutation\n",
    "\n",
    "def mutate(matrix):\n",
    "    for i in range(0, len(matrix)):\n",
    "        for _ in range(0, len(matrix[i])):\n",
    "            ranNum = random.randint(1, 100)\n",
    "            if ranNum >= 1 and ranNum <= 5:\n",
    "                indexOne = random.randint(0, 19)\n",
    "                indexTwo = random.randint(0, 19)\n",
    "                auxOne = matrix[i][indexOne]\n",
    "                auxTwo = matrix[i][indexTwo]\n",
    "                matrix[i][indexOne] = auxTwo\n",
    "                matrix[i][indexTwo] = auxOne"
   ]
  },
  {
   "cell_type": "code",
   "execution_count": 8,
   "metadata": {},
   "outputs": [],
   "source": [
    "#Generation of tour matrix\n",
    "\n",
    "def generateTour():\n",
    "    global tour\n",
    "    tour = copy.deepcopy(population)\n",
    "    for ways in tour:\n",
    "        first = ways[0]\n",
    "        ways.append(first)"
   ]
  },
  {
   "cell_type": "code",
   "execution_count": 9,
   "metadata": {},
   "outputs": [],
   "source": [
    "#calculate path distances for the solutions\n",
    "\n",
    "def calculateDistances():\n",
    "    global distances\n",
    "    distances = [0 for x in range(POPULATION_SIZE)]\n",
    "    for i in range(len(population)):\n",
    "        for j in range(len(population[i])):\n",
    "            firstPos = 19 if tour[i][j] == 20 else tour[i][j]\n",
    "            secondPos = 19 if tour[i][j+1] == 20 else tour[i][j+1]\n",
    "            distances[i] += round(dCidade[firstPos][secondPos], 4)\n",
    "    dict_dist = {i: distances[i] for i in range(0, len(distances))}\n",
    "    distances = copy.deepcopy(dict_dist)\n",
    "    return sorted(distances.items(), key=lambda kv: kv[1])"
   ]
  },
  {
   "cell_type": "code",
   "execution_count": 10,
   "metadata": {},
   "outputs": [],
   "source": [
    "#Generation of identity matrix dCidade\n",
    "def fitnessFunction():\n",
    "    for i in range(len(population)):\n",
    "        for j in range(len(population)):\n",
    "            dCidade[i][j] = round(math.sqrt(((x[i] - x[j])**2) + ((y[i] - y[j])**2)), 4)\n",
    "    return calculateDistances()\n"
   ]
  },
  {
   "cell_type": "code",
   "execution_count": 11,
   "metadata": {},
   "outputs": [],
   "source": [
    "#Generate the roulette function for selection of bes two parents\n",
    "def rouletteFunction(sorted_x):\n",
    "    global parentsOne\n",
    "    global parentsTwo\n",
    "    arr = []\n",
    "    rouletteArr = []\n",
    "    for i in range(10):\n",
    "        arr.append(sorted_x[i][0])\n",
    "    for j in range(len(arr)):\n",
    "        for _ in range(10 - j):\n",
    "            rouletteArr.append(arr[j])\n",
    "    parentsOne = createParents(rouletteArr)\n",
    "    parentsTwo = createParents(rouletteArr)"
   ]
  },
  {
   "cell_type": "code",
   "execution_count": 12,
   "metadata": {},
   "outputs": [],
   "source": [
    "#Generate the two parent arrays\n",
    "def createParents(rouletteArr):\n",
    "    parentArr = []\n",
    "    for _ in range(5):\n",
    "        parentArr.append(rouletteArr[random.randint(0, 54)])\n",
    "    return parentArr"
   ]
  },
  {
   "cell_type": "code",
   "execution_count": 13,
   "metadata": {},
   "outputs": [],
   "source": [
    "#Check for duplicated cities\n",
    "def hasDuplicity(auxArray, usedIndexes):\n",
    "    for i in range(len(auxArray)):\n",
    "        for j in range(i, len(auxArray)):\n",
    "            if i != j and auxArray[i] == auxArray[j]:\n",
    "                if i in usedIndexes:\n",
    "                    return j\n",
    "                else:\n",
    "                    return i\n",
    "    return -1"
   ]
  },
  {
   "cell_type": "code",
   "execution_count": 15,
   "metadata": {},
   "outputs": [],
   "source": [
    "#Perform crossover for each two children in the children array ans swap between them until there's no duplicated element\n",
    "#Mutate children generated\n",
    "#Add them to the population array \n",
    "def doCycle(sorted_x):\n",
    "    global population\n",
    "    children = []\n",
    "\n",
    "    for i in range(5):\n",
    "        parentOneAux = parentsOne[i]\n",
    "        parentTwoAux = parentsTwo[i]\n",
    "        usedIndexes = []\n",
    "\n",
    "        randomIndexInsideCromossomus = random.randint(0, POPULATION_SIZE - 1)\n",
    "\n",
    "        usedIndexes.append(randomIndexInsideCromossomus)\n",
    "\n",
    "        childOne = copy.deepcopy(population[parentOneAux])\n",
    "        childTwo = copy.deepcopy(population[parentTwoAux])\n",
    "\n",
    "        valAuxOne = childOne[randomIndexInsideCromossomus]\n",
    "        valAuxTwo = childTwo[randomIndexInsideCromossomus]\n",
    "\n",
    "        childOne[randomIndexInsideCromossomus] = valAuxTwo\n",
    "        childTwo[randomIndexInsideCromossomus] = valAuxOne\n",
    "\n",
    "        while(hasDuplicity(childOne, usedIndexes) != -1):\n",
    "            newIndex = hasDuplicity(childOne, usedIndexes)\n",
    "            usedIndexes.append(newIndex)\n",
    "\n",
    "            valAuxOne = childOne[newIndex]\n",
    "            valAuxTwo = childTwo[newIndex]\n",
    "\n",
    "            childOne[newIndex] = valAuxTwo\n",
    "            childTwo[newIndex] = valAuxOne\n",
    "\n",
    "        # After generating the children, add them in the children's array\n",
    "        children.append(childOne)\n",
    "        children.append(childTwo)\n",
    "\n",
    "    # Mutate the children array\n",
    "    mutate(children)\n",
    "\n",
    "    # Make a temp copy of the population before changing it\n",
    "    tempPop = copy.deepcopy(population)\n",
    "\n",
    "    for i in range(10):\n",
    "        population[i] = copy.deepcopy(tempPop[sorted_x[i][0]])\n",
    "\n",
    "    # Adjust the population\n",
    "    for j in range(10, POPULATION_SIZE):\n",
    "        population[j] = copy.deepcopy(children[j - 10])\n"
   ]
  },
  {
   "cell_type": "code",
   "execution_count": 16,
   "metadata": {},
   "outputs": [
    {
     "name": "stdout",
     "output_type": "stream",
     "text": [
      "Total population: 20\n",
      "Mutation probability: 5%\n",
      "Number of cities: 20\n",
      "Optimal path cost: 4.374699999999999\n",
      "Best route: [20, 12, 14, 1, 7, 13, 2, 16, 17, 18, 19, 4, 8, 15, 9, 11, 5, 6, 10, 3]\n"
     ]
    },
    {
     "data": {
      "image/png": "[encoded data removed]",
      "text/plain": [
       "<Figure size 432x288 with 1 Axes>"
      ]
     },
     "metadata": {
      "needs_background": "light"
     },
     "output_type": "display_data"
    },
    {
     "data": {
      "image/png": "[encoded data removed]",
      "text/plain": [
       "<Figure size 432x288 with 1 Axes>"
      ]
     },
     "metadata": {
      "needs_background": "light"
     },
     "output_type": "display_data"
    }
   ],
   "source": [
    "def main():\n",
    "    # Runs only once. Generates the population, x and y, and tour matrix\n",
    "    generateFirstPopulation()\n",
    "    generateXandY()\n",
    "    generateTour()\n",
    "\n",
    "    # Runs in a loop 0 - 9999.\n",
    "    for _ in range(NUM_EXECUTION):\n",
    "        sorted_x = fitnessFunction()\n",
    "        rouletteFunction(sorted_x)\n",
    "        doCycle(sorted_x)\n",
    "        generateTour() # Generate the Tour matrix again, as the population is updated\n",
    "        costByExecution.append(sorted_x[0][1]) # Appends the cost to the array of costs (plotted at the end)\n",
    "\n",
    "    # Generates the fitness values for the last population\n",
    "    sorted_x = fitnessFunction()\n",
    "\n",
    "    print('Total population: %s' % (POPULATION_SIZE))\n",
    "    print('Mutation probability: 5%')\n",
    "    print('Number of cities: %s' % (CITIES_SIZE))\n",
    "    print('Optimal path cost: %s' % sorted_x[0][1])\n",
    "    print('Best route: %s' % population[0])\n",
    "\n",
    "    # Show the path graph\n",
    "    plt.plot(tour[0])\n",
    "    plt.plot(tour[0], 'ro')\n",
    "    plt.axis([0, 20, 0, 20])\n",
    "    plt.show()\n",
    "\n",
    "    # Show the cost graph\n",
    "    plt.plot(costByExecution)\n",
    "    plt.show()\n",
    "\n",
    "if __name__ == \"__main__\":\n",
    "    main()"
   ]
  },
  {
   "cell_type": "code",
   "execution_count": null,
   "metadata": {},
   "outputs": [],
   "source": []
  }
 ],
 "metadata": {
  "kernelspec": {
   "display_name": "Python 3",
   "language": "python",
   "name": "python3"
  },
  "language_info": {
   "codemirror_mode": {
    "name": "ipython",
    "version": 3
   },
   "file_extension": ".py",
   "mimetype": "text/x-python",
   "name": "python",
   "nbconvert_exporter": "python",
   "pygments_lexer": "ipython3",
   "version": "3.7.4"
  }
 },
 "nbformat": 4,
 "nbformat_minor": 2
}
